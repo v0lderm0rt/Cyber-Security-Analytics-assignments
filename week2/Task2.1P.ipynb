{
 "cells": [
  {
   "cell_type": "code",
   "execution_count": 1,
   "id": "8af8aa3a",
   "metadata": {},
   "outputs": [],
   "source": [
    "from math import factorial"
   ]
  },
  {
   "cell_type": "code",
   "execution_count": 2,
   "id": "4de36621",
   "metadata": {},
   "outputs": [],
   "source": [
    "def factCalc(x):\n",
    "     while x < 0:\n",
    "            x=int(input(\"Please enter a nonnegative integer: \"))\n",
    "        \n",
    "        \n",
    "     print(\"Factorial of \"+ str(x)+\" is \"+ str(factorial(x)))\n",
    "       \n",
    "        "
   ]
  },
  {
   "cell_type": "code",
   "execution_count": 3,
   "id": "a90b6ff6",
   "metadata": {},
   "outputs": [
    {
     "name": "stdout",
     "output_type": "stream",
     "text": [
      "Enter a number: -3\n",
      "Please enter a nonnegative integer: -4\n",
      "Please enter a nonnegative integer: 3\n",
      "Factorial of 3 is 6\n"
     ]
    }
   ],
   "source": [
    "num = int(input(\"Enter a number: \"))\n",
    "factCalc(num)"
   ]
  },
  {
   "cell_type": "code",
   "execution_count": null,
   "id": "6fd9cb07",
   "metadata": {},
   "outputs": [],
   "source": []
  },
  {
   "cell_type": "code",
   "execution_count": null,
   "id": "a945ac14",
   "metadata": {},
   "outputs": [],
   "source": []
  }
 ],
 "metadata": {
  "kernelspec": {
   "display_name": "Python 3 (ipykernel)",
   "language": "python",
   "name": "python3"
  },
  "language_info": {
   "codemirror_mode": {
    "name": "ipython",
    "version": 3
   },
   "file_extension": ".py",
   "mimetype": "text/x-python",
   "name": "python",
   "nbconvert_exporter": "python",
   "pygments_lexer": "ipython3",
   "version": "3.9.12"
  }
 },
 "nbformat": 4,
 "nbformat_minor": 5
}
