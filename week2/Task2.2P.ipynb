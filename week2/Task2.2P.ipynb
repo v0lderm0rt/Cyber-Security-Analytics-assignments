{
 "cells": [
  {
   "cell_type": "code",
   "execution_count": 2,
   "id": "ee6ac0ac",
   "metadata": {},
   "outputs": [
    {
     "name": "stdout",
     "output_type": "stream",
     "text": [
      "Enter a number: -2\n",
      "Please enter a nonnegative integer: 0\n",
      "Factorial of 0:\n",
      "0\n"
     ]
    }
   ],
   "source": [
    "def recur_factorial(x):   # function for recursive factorial\n",
    "    if x==1:\n",
    "        return x\n",
    "    else:\n",
    "        return x*recur_factorial(x-1)\n",
    "n = int(input(\"Enter a number: \")) # Ask the user to input a number\n",
    "while n < 0:\n",
    "    n = int(input(\"Please enter a nonnegative integer: \"))\n",
    "if n==0:\n",
    "    print(\"Factorial of 0:\\n0\")\n",
    "else:\n",
    "    print(\"Factorial of \"+str(n)+\":\\n\"+str(recur_factorial(n)))"
   ]
  },
  {
   "cell_type": "code",
   "execution_count": null,
   "id": "a48de5f0",
   "metadata": {},
   "outputs": [],
   "source": []
  }
 ],
 "metadata": {
  "kernelspec": {
   "display_name": "Python 3 (ipykernel)",
   "language": "python",
   "name": "python3"
  },
  "language_info": {
   "codemirror_mode": {
    "name": "ipython",
    "version": 3
   },
   "file_extension": ".py",
   "mimetype": "text/x-python",
   "name": "python",
   "nbconvert_exporter": "python",
   "pygments_lexer": "ipython3",
   "version": "3.9.12"
  }
 },
 "nbformat": 4,
 "nbformat_minor": 5
}
