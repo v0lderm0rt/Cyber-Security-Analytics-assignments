{
 "cells": [
  {
   "cell_type": "code",
   "execution_count": 3,
   "id": "638574f6",
   "metadata": {},
   "outputs": [],
   "source": [
    "import re\n",
    "\n"
   ]
  },
  {
   "cell_type": "code",
   "execution_count": 4,
   "id": "960f901d",
   "metadata": {},
   "outputs": [],
   "source": [
    "text = \"email: shang.gao@test2.server.com, usename: shang.gao, host: test2.server.com\""
   ]
  },
  {
   "cell_type": "code",
   "execution_count": 44,
   "id": "fa744d50",
   "metadata": {},
   "outputs": [
    {
     "name": "stdout",
     "output_type": "stream",
     "text": [
      "Please input your email address:test@\n",
      "Not a valid email\n",
      "Please input your email address:shang.gao@test2.server.com\n",
      "email: shang.gao@test2.server.com, usename: shang.gao, host: test2.server.com\n"
     ]
    }
   ],
   "source": [
    "enter_email = input(\"Please input your email address:\")\n",
    "\n",
    "x = re.search(enter_email,text)\n",
    "while not x:\n",
    "    print(\"Not a valid email\")\n",
    "    enter_email = input(\"Please input your email address:\")\n",
    "\n",
    "    x = re.search(enter_email,text)\n",
    "if x:\n",
    "    print(text)"
   ]
  },
  {
   "cell_type": "code",
   "execution_count": null,
   "id": "281fd9b8",
   "metadata": {},
   "outputs": [],
   "source": []
  }
 ],
 "metadata": {
  "kernelspec": {
   "display_name": "Python 3 (ipykernel)",
   "language": "python",
   "name": "python3"
  },
  "language_info": {
   "codemirror_mode": {
    "name": "ipython",
    "version": 3
   },
   "file_extension": ".py",
   "mimetype": "text/x-python",
   "name": "python",
   "nbconvert_exporter": "python",
   "pygments_lexer": "ipython3",
   "version": "3.9.12"
  }
 },
 "nbformat": 4,
 "nbformat_minor": 5
}
