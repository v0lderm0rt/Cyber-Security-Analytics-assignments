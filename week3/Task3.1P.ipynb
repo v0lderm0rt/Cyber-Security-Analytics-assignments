{
 "cells": [
  {
   "cell_type": "code",
   "execution_count": 1,
   "id": "22b6a6f7",
   "metadata": {},
   "outputs": [],
   "source": [
    "import pandas as pd"
   ]
  },
  {
   "cell_type": "code",
   "execution_count": 33,
   "id": "ee2be00a",
   "metadata": {},
   "outputs": [],
   "source": [
    "df = pd.read_csv(r'result.csv')\n"
   ]
  },
  {
   "cell_type": "code",
   "execution_count": 34,
   "id": "a7f853d7",
   "metadata": {},
   "outputs": [],
   "source": [
    "# mean,min,max of Ass1\n",
    "avg_ass1 = df['Ass1'].mean()\n",
    "min_ass1 = df['Ass1'].min()\n",
    "max_ass1 = df['Ass1'].max()\n",
    "\n",
    "# mean,min,max of Ass2\n",
    "avg_ass2 = df['Ass2'].mean()\n",
    "min_ass2 = df['Ass2'].min()\n",
    "max_ass2 = df['Ass2'].max()\n",
    "\n",
    "# mean,min,max of Ass3\n",
    "avg_ass3 = df['Ass3'].mean()\n",
    "min_ass3 = df['Ass3'].min()\n",
    "max_ass3 = df['Ass3'].max()\n",
    "\n",
    "# mean,min,max of Ass4\n",
    "avg_ass4 = df['Ass4'].mean()\n",
    "min_ass4 = df['Ass4'].min()\n",
    "max_ass4 = df['Ass4'].max()\n",
    "\n",
    "# highest total value\n",
    "highest_total = df['Total'].max()\n"
   ]
  },
  {
   "cell_type": "code",
   "execution_count": 37,
   "id": "2b3eb952",
   "metadata": {},
   "outputs": [
    {
     "name": "stdout",
     "output_type": "stream",
     "text": [
      "ass1 average:79.08241758241758\n",
      "ass1 min:50.0\n",
      "ass1 max:99.1\n",
      "\n",
      "ass2 average:72.01978021978024\n",
      "ass2 min:43.8\n",
      "ass2 max:100.0\n",
      "\n",
      "ass3 average:71.76373626373626\n",
      "ass3 min:0.0\n",
      "ass3 max:98.0\n",
      "\n",
      "Student with highest total:\n",
      "    ID  Ass1   Ass2  Ass3   Ass4  Exam  Total\n",
      "83  84  93.6  100.0  96.0  100.0   106     91\n"
     ]
    }
   ],
   "source": [
    "print(\"ass1 average:\" + str(avg_ass1) + \"\\nass1 min:\" + str(min_ass1) + \"\\nass1 max:\" + str(max_ass1))\n",
    "print(\"\\nass2 average:\" + str(avg_ass2) + \"\\nass2 min:\" + str(min_ass2) + \"\\nass2 max:\" + str(max_ass2))\n",
    "print(\"\\nass3 average:\" + str(avg_ass3) + \"\\nass3 min:\" + str(min_ass3) + \"\\nass3 max:\" + str(max_ass3) + \"\\n\")\n",
    "print(\"Student with highest total:\")\n",
    "print(df.loc[df['Total'] == highest_total])"
   ]
  },
  {
   "cell_type": "code",
   "execution_count": null,
   "id": "dd7ba849",
   "metadata": {},
   "outputs": [],
   "source": []
  }
 ],
 "metadata": {
  "kernelspec": {
   "display_name": "Python 3 (ipykernel)",
   "language": "python",
   "name": "python3"
  },
  "language_info": {
   "codemirror_mode": {
    "name": "ipython",
    "version": 3
   },
   "file_extension": ".py",
   "mimetype": "text/x-python",
   "name": "python",
   "nbconvert_exporter": "python",
   "pygments_lexer": "ipython3",
   "version": "3.9.12"
  }
 },
 "nbformat": 4,
 "nbformat_minor": 5
}
