{
 "cells": [
  {
   "cell_type": "code",
   "execution_count": 3,
   "id": "919303f7",
   "metadata": {},
   "outputs": [
    {
     "name": "stderr",
     "output_type": "stream",
     "text": [
      "G:\\anaconda\\lib\\site-packages\\sklearn\\manifold\\_t_sne.py:780: FutureWarning: The default initialization in TSNE will change from 'random' to 'pca' in 1.2.\n",
      "  warnings.warn(\n"
     ]
    },
    {
     "name": "stdout",
     "output_type": "stream",
     "text": [
      "Data shape before t-SNE: (200, 1135)\n",
      "Data shape after t-SNE: (200, 2)\n",
      "Clustering accuracy: 100.00%\n"
     ]
    }
   ],
   "source": [
    "import numpy as np\n",
    "from sklearn.cluster import KMeans\n",
    "from sklearn.manifold import TSNE\n",
    "from sklearn.feature_extraction.text import CountVectorizer\n",
    "\n",
    "# Read the legitimate domains and DGA domain names\n",
    "with open('dga-cryptolocke-50.txt') as f:\n",
    "    dga_cryptolocke = f.read().splitlines()\n",
    "\n",
    "with open('dga-post-tovar-goz-50.txt') as f:\n",
    "    dga_post_tovar_goz = f.read().splitlines()\n",
    "\n",
    "with open('Top-100.csv') as f:\n",
    "    legit_domains = f.read().splitlines()\n",
    "\n",
    "# Combine the legitimate domains and DGA domain names into a single list\n",
    "all_domains = dga_cryptolocke + dga_post_tovar_goz + legit_domains\n",
    "\n",
    "# Vectorize the domain names using CountVectorizer with 2-gram\n",
    "vectorizer = CountVectorizer(analyzer='char', ngram_range=(2, 2))\n",
    "X = vectorizer.fit_transform(all_domains)\n",
    "\n",
    "# Apply kMeans clustering with n_clusters=2 and random_state=170\n",
    "kmeans = KMeans(n_clusters=2, random_state=170)\n",
    "y_pred = kmeans.fit_predict(X)\n",
    "\n",
    "# Reduce dimensionality to 2 using t-SNE\n",
    "tsne = TSNE(learning_rate=100, random_state=170)\n",
    "X_tsne = tsne.fit_transform(X)\n",
    "\n",
    "# Print the data shape before and after t-SNE\n",
    "print(f\"Data shape before t-SNE: {X.shape}\")\n",
    "print(f\"Data shape after t-SNE: {X_tsne.shape}\")\n",
    "\n",
    "# Calculate and print clustering accuracy\n",
    "y = np.concatenate((np.ones(len(dga_cryptolocke) + len(dga_post_tovar_goz)),\n",
    "                    np.zeros(len(legit_domains))))\n",
    "accuracy = np.mean(y_pred == y) * 100\n",
    "print(f\"Clustering accuracy: {accuracy:.2f}%\")\n"
   ]
  },
  {
   "cell_type": "code",
   "execution_count": null,
   "id": "da1bbb75",
   "metadata": {},
   "outputs": [],
   "source": []
  }
 ],
 "metadata": {
  "kernelspec": {
   "display_name": "Python 3 (ipykernel)",
   "language": "python",
   "name": "python3"
  },
  "language_info": {
   "codemirror_mode": {
    "name": "ipython",
    "version": 3
   },
   "file_extension": ".py",
   "mimetype": "text/x-python",
   "name": "python",
   "nbconvert_exporter": "python",
   "pygments_lexer": "ipython3",
   "version": "3.9.12"
  }
 },
 "nbformat": 4,
 "nbformat_minor": 5
}
