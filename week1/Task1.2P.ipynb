{
 "cells": [
  {
   "cell_type": "code",
   "execution_count": 51,
   "id": "9bf95f8e",
   "metadata": {},
   "outputs": [
    {
     "name": "stdout",
     "output_type": "stream",
     "text": [
      "Enter your width: -8\n",
      "Width cannot be less than or equal to zero\n",
      "Enter your width: 0\n",
      "Width cannot be less than or equal to zero\n",
      "Enter your width: 6\n",
      "Enter your height: -8\n",
      "Height cannot be less than or equal to zero\n",
      "Enter your height: 3\n"
     ]
    }
   ],
   "source": [
    "width = int(input(\"Enter your width: \"))\n",
    "while width <= 0:\n",
    "    print(\"Width cannot be less than or equal to zero\")\n",
    "    width = int(input(\"Enter your width: \"))\n",
    "    \n",
    "height = int(input(\"Enter your height: \"))\n",
    "while height <= 0:\n",
    "    print(\"Height cannot be less than or equal to zero\")\n",
    "    height = int(input(\"Enter your height: \"))\n"
   ]
  },
  {
   "cell_type": "code",
   "execution_count": 52,
   "id": "ee83484d",
   "metadata": {},
   "outputs": [
    {
     "name": "stdout",
     "output_type": "stream",
     "text": [
      "* * * * * * \n",
      "* * * * * * \n",
      "* * * * * * \n"
     ]
    }
   ],
   "source": [
    "for i in range(0,height):\n",
    "    for j in range(0,width+1):\n",
    "        if j == width:\n",
    "            print(j*\"* \")\n",
    "        \n",
    "    \n",
    "        \n",
    "        "
   ]
  },
  {
   "cell_type": "code",
   "execution_count": null,
   "id": "ab6f6276",
   "metadata": {},
   "outputs": [],
   "source": []
  }
 ],
 "metadata": {
  "kernelspec": {
   "display_name": "Python 3 (ipykernel)",
   "language": "python",
   "name": "python3"
  },
  "language_info": {
   "codemirror_mode": {
    "name": "ipython",
    "version": 3
   },
   "file_extension": ".py",
   "mimetype": "text/x-python",
   "name": "python",
   "nbconvert_exporter": "python",
   "pygments_lexer": "ipython3",
   "version": "3.9.12"
  }
 },
 "nbformat": 4,
 "nbformat_minor": 5
}
