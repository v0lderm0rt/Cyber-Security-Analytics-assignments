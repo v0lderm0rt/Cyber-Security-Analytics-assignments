{
 "cells": [
  {
   "cell_type": "code",
   "execution_count": 13,
   "id": "43d85ec8",
   "metadata": {},
   "outputs": [],
   "source": [
    "my_list = [\"Monday\",\"Tuesday\",\"Wednesday\",\"Thursday\",\"Friday\",\"Saturday\",\"Sunday\"]\n",
    "\n",
    "my_tuple = (\"Monday\",\"Tuesday\",\"Wednesday\",\"Thursday\",\"Friday\",\"Saturday\",\"Sunday\")\n",
    "my_set = {\"Monday\",\"Tuesday\",\"Wednesday\",\"Thursday\",\"Friday\",\"Saturday\",\"Sunday\"}\n",
    "my_dict = {1:\"Monday\",2:\"Tuesday\",3:\"Wednesday\",4:\"Thursday\",5:\"Friday\",6:\"Saturday\",7:\"Sunday\"}"
   ]
  },
  {
   "cell_type": "code",
   "execution_count": 16,
   "id": "90f3263f",
   "metadata": {},
   "outputs": [
    {
     "name": "stdout",
     "output_type": "stream",
     "text": [
      "<class 'list'>\n",
      "Monday\n",
      "Tuesday\n",
      "Wednesday\n",
      "Thursday\n",
      "Friday\n",
      "Saturday\n",
      "Sunday\n",
      "<class 'tuple'>\n",
      "Monday\n",
      "Tuesday\n",
      "Wednesday\n",
      "Thursday\n",
      "Friday\n",
      "Saturday\n",
      "Sunday\n",
      "<class 'set'>\n",
      "Sunday\n",
      "Friday\n",
      "Wednesday\n",
      "Thursday\n",
      "Tuesday\n",
      "Saturday\n",
      "Monday\n",
      "<class 'dict'>\n",
      "Monday\n",
      "Tuesday\n",
      "Wednesday\n",
      "Thursday\n",
      "Friday\n",
      "Saturday\n",
      "Sunday\n"
     ]
    }
   ],
   "source": [
    "print(type(my_list))\n",
    "for i in my_list:\n",
    "    print(i)\n",
    "print(type(my_tuple))\n",
    "for i in my_tuple:\n",
    "    print(i)\n",
    "print(type(my_set))\n",
    "for i in my_set:\n",
    "    print(i)\n",
    "print(type(my_dict))\n",
    "for value in my_dict.values():\n",
    "    print(value)"
   ]
  },
  {
   "cell_type": "code",
   "execution_count": null,
   "id": "657d6b77",
   "metadata": {},
   "outputs": [],
   "source": []
  }
 ],
 "metadata": {
  "kernelspec": {
   "display_name": "Python 3 (ipykernel)",
   "language": "python",
   "name": "python3"
  },
  "language_info": {
   "codemirror_mode": {
    "name": "ipython",
    "version": 3
   },
   "file_extension": ".py",
   "mimetype": "text/x-python",
   "name": "python",
   "nbconvert_exporter": "python",
   "pygments_lexer": "ipython3",
   "version": "3.9.12"
  }
 },
 "nbformat": 4,
 "nbformat_minor": 5
}
